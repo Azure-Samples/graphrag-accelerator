{
 "cells": [
  {
   "cell_type": "markdown",
   "id": "6ec6d815-60d7-4bab-a778-4b9cce3bdbc9",
   "metadata": {},
   "source": [
    "# GraphRAG API Demo\n",
    "\n",
    "This notebook is written as a tutorial/demonstration on how to use the GraphRAG solution accelerator API."
   ]
  },
  {
   "cell_type": "markdown",
   "id": "6ccd8536-714d-4d95-bbe6-0e1abbbf42a1",
   "metadata": {},
   "source": [
    "## Existing APIs\n",
    "\n",
    "| HTTP Method | Endpoint         |\n",
    "|-------------|------------------|\n",
    "| GET         | /data\n",
    "| POST        | /data\n",
    "| DELETE      | /data/{storage_name}\n",
    "| GET         | /index\n",
    "| POST        | /index\n",
    "| DELETE      | /index/{index_name}\n",
    "| GET         | /index/status/{index_name}\n",
    "| GET         | /index/config/entity\n",
    "| PUT         | /index/config/entity\n",
    "| POST        | /index/config/entity\n",
    "| GET         | /index/config/entity/{entity_configuration_name}\n",
    "| DELETE      | /index/config/entity/{entity_configuration_name}\n",
    "| POST        | /query/global\n",
    "| POST        | /query/local\n",
    "| GET         | /graph/graphml/{index_name}\n",
    "| GET         | /graph/stats/{index_name}\n",
    "| GET         | /source/report/{index_name}/{report_id}\n",
    "| GET         | /source/text/{index_name}/{text_unit_id}\n",
    "| GET         | /source/entity/{index_name}/{entity_id}\n",
    "| GET         | /source/claim/{index_name}/{claim_id}\n",
    "| GET         | /source/relationship/{index_name}/{relationship_id}"
   ]
  },
  {
   "cell_type": "markdown",
   "id": "fc5f23a6-8deb-4e2c-988c-6a992f563f71",
   "metadata": {},
   "source": [
    "## Prerequisites\n",
    "Install 3rd party packages that are not part of the Python Standard Library"
   ]
  },
  {
   "cell_type": "code",
   "execution_count": null,
   "id": "08c22615",
   "metadata": {},
   "outputs": [],
   "source": [
    "! pip install devtools pandas python-magic requests tqdm"
   ]
  },
  {
   "cell_type": "code",
   "execution_count": null,
   "id": "f041ebb7-ee6c-4f51-83de-9e3764b6ae0f",
   "metadata": {},
   "outputs": [],
   "source": [
    "import getpass\n",
    "import json\n",
    "import sys\n",
    "import time\n",
    "from pathlib import Path\n",
    "\n",
    "import magic\n",
    "import pandas as pd\n",
    "import requests\n",
    "from devtools import pprint\n",
    "from tqdm import tqdm"
   ]
  },
  {
   "cell_type": "markdown",
   "id": "4f33e4a2-d5c5-4c0a-8644-09f799c3ab2e",
   "metadata": {},
   "source": [
    "## Configuration required by User\n"
   ]
  },
  {
   "cell_type": "markdown",
   "id": "128cd1c2-5134-4fa0-9582-e9b973053f21",
   "metadata": {},
   "source": [
    "#### Get API Key for API Management Service\n",
    "For authentication, the API requires a *subscription key* to be passed in the header of all requests. To find this key, visit the Azure Portal. The API subscription key will be located under `<my_resource_group> --> <API Management service> --> <APIs> --> <Subscriptions> --> <Built-in all-access subscription> Primary Key`."
   ]
  },
  {
   "cell_type": "code",
   "execution_count": null,
   "id": "eee39043-16a6-4867-ae2f-c99faa722411",
   "metadata": {
    "tags": []
   },
   "outputs": [],
   "source": [
    "ocp_apim_subscription_key = getpass.getpass(\n",
    "    \"Enter the subscription key to the GraphRag APIM:\"\n",
    ")"
   ]
  },
  {
   "cell_type": "markdown",
   "id": "0b38c879-8825-4156-8a3a-cd9063dd3580",
   "metadata": {},
   "source": [
    "#### Setup directories and API endpoint\n",
    "\n",
    "The following parameters are required to access and use the GraphRAG solution accelerator API:\n",
    "* file_directory\n",
    "* storage_name\n",
    "* index_name\n",
    "* endpoint\n",
    "\n",
    "For demonstration purposes, you may use the provided `get-wiki-articles.py` script to download a small set of wikipedia articles or provide your own data."
   ]
  },
  {
   "cell_type": "code",
   "execution_count": null,
   "id": "e9f71813-044b-41bb-bdb9-fa442440c6d4",
   "metadata": {
    "tags": []
   },
   "outputs": [],
   "source": [
    "\"\"\"\n",
    "These parameters must be defined by the user:\n",
    "\n",
    "- file_directory: local directory where data files of interest are stored.\n",
    "- storage_name: unique name for an Azure blob storage container where files will be uploaded.\n",
    "- index_name: unique name for a single knowledge graph construction. Multiple indexes can be created from the same blob container of data.\n",
    "- remote_endpoint: the endpoint URL for GraphRAG service (this is the Gateway URL found in the APIM resource).\n",
    "\"\"\"\n",
    "\n",
    "file_directory = \"\"\n",
    "storage_name = \"\"\n",
    "index_name = \"\"\n",
    "endpoint = \"\""
   ]
  },
  {
   "cell_type": "code",
   "execution_count": null,
   "id": "f35ab26e-70d4-4d2b-be25-a98bc831e190",
   "metadata": {},
   "outputs": [],
   "source": [
    "assert (\n",
    "    file_directory != \"\" and storage_name != \"\" and index_name != \"\" and endpoint != \"\"\n",
    ")"
   ]
  },
  {
   "cell_type": "markdown",
   "id": "88a216a5",
   "metadata": {},
   "source": [
    "## Helper Functions\n",
    "We've provided helper functions below that encapsulate http requests to make API interaction more intuitive."
   ]
  },
  {
   "cell_type": "code",
   "execution_count": null,
   "id": "084bea9f",
   "metadata": {
    "tags": []
   },
   "outputs": [],
   "source": [
    "\"\"\"\n",
    "\"Ocp-Apim-Subscription-Key\": \n",
    "    This is a custom HTTP header used by Azure API Management service (APIM) to \n",
    "    authenticate API requests. The value for this key should be set to the subscription \n",
    "    key provided by the Azure APIM instance in your GraphRAG resource group.\n",
    "\"\"\"\n",
    "headers = {\"Ocp-Apim-Subscription-Key\": ocp_apim_subscription_key}\n",
    "\n",
    "\n",
    "def upload_files(\n",
    "    file_directory: str,\n",
    "    storage_name: str,\n",
    "    batch_size: int = 100,\n",
    "    overwrite: bool = True,\n",
    "    max_retries: int = 5,\n",
    ") -> requests.Response | list[Path]:\n",
    "    \"\"\"\n",
    "    Upload files to a blob storage container.\n",
    "\n",
    "    Args:\n",
    "    file_directory - a local directory of .txt files to upload. All files must be in utf-8 encoding.\n",
    "    storage_name - a unique name for the Azure storage container.\n",
    "    batch_size - the number of files to upload in a single batch.\n",
    "    overwrite - whether or not to overwrite files if they already exist in the storage container.\n",
    "    max_retries - the maximum number of times to retry uploading a batch of files if the API is busy.\n",
    "\n",
    "    NOTE: Uploading files may sometimes fail if the blob container was recently deleted\n",
    "    (i.e. a few seconds before. The solution \"in practice\" is to sleep a few seconds and try again.\n",
    "    \"\"\"\n",
    "    url = endpoint + \"/data\"\n",
    "\n",
    "    def upload_batch(\n",
    "        files: list, storage_name: str, overwrite: bool, max_retries: int\n",
    "    ) -> requests.Response:\n",
    "        for _ in range(max_retries):\n",
    "            response = requests.post(\n",
    "                url=url,\n",
    "                files=files,\n",
    "                params={\"storage_name\": storage_name, \"overwrite\": overwrite},\n",
    "                headers=headers,\n",
    "            )\n",
    "            # API may be busy, retry\n",
    "            if response.status_code == 500:\n",
    "                print(\"API busy. Sleeping and will try again.\")\n",
    "                time.sleep(10)\n",
    "                continue\n",
    "            return response\n",
    "        return response\n",
    "\n",
    "    batch_files = []\n",
    "    accepted_file_types = [\"text/plain\"]\n",
    "    filepaths = list(Path(file_directory).iterdir())\n",
    "    for file in tqdm(filepaths):\n",
    "        # validate that file is a file, has acceptable file type, has a .txt extension, and has utf-8 encoding\n",
    "        if (\n",
    "            not file.is_file()\n",
    "            or file.suffix != \".txt\"\n",
    "            or magic.from_file(str(file), mime=True) not in accepted_file_types\n",
    "        ):\n",
    "            print(f\"Skipping invalid file: {file}\")\n",
    "            continue\n",
    "        # open and decode file as utf-8, ignore bad characters\n",
    "        batch_files.append(\n",
    "            (\"files\", open(file=file, mode=\"r\", encoding=\"utf-8\", errors=\"ignore\"))\n",
    "        )\n",
    "        # upload batch of files\n",
    "        if len(batch_files) == batch_size:\n",
    "            response = upload_batch(batch_files, storage_name, overwrite, max_retries)\n",
    "            # if response is not ok, return early\n",
    "            if not response.ok:\n",
    "                return response\n",
    "            batch_files.clear()\n",
    "    # upload remaining files\n",
    "    if len(batch_files) > 0:\n",
    "        response = upload_batch(batch_files, storage_name, overwrite, max_retries)\n",
    "    return response\n",
    "\n",
    "\n",
    "def delete_files(storage_name: str) -> requests.Response:\n",
    "    \"\"\"Delete a blob storage container.\"\"\"\n",
    "    url = endpoint + f\"/data/{storage_name}\"\n",
    "    return requests.delete(url=url, headers=headers)\n",
    "\n",
    "\n",
    "def list_files() -> requests.Response:\n",
    "    \"\"\"List all data storage containers.\"\"\"\n",
    "    url = endpoint + \"/data\"\n",
    "    return requests.get(url=url, headers=headers)\n",
    "\n",
    "\n",
    "def build_index(\n",
    "    storage_name: str,\n",
    "    index_name: str,\n",
    "    entity_config_name: str = None,\n",
    "    merge_with_index: str = None,\n",
    ") -> requests.Response:\n",
    "    \"\"\"Create a search index.\n",
    "    This function kicks off a job that builds a knowledge graph (KG) index from files located in a blob storage container.\n",
    "    \"\"\"\n",
    "    url = endpoint + \"/index\"\n",
    "    request = {\n",
    "        \"storage_name\": storage_name,\n",
    "        \"index_name\": index_name,\n",
    "        \"entity_config_name\": entity_config_name,\n",
    "        \"merge_with_index\": merge_with_index,\n",
    "    }\n",
    "    return requests.post(url, json=request, headers=headers)\n",
    "\n",
    "\n",
    "def delete_index(index_name: str) -> requests.Response:\n",
    "    \"\"\"Delete a search index.\"\"\"\n",
    "    url = endpoint + f\"/index/{index_name}\"\n",
    "    return requests.delete(url, headers=headers)\n",
    "\n",
    "\n",
    "def list_indexes() -> list:\n",
    "    \"\"\"List all search indexes.\"\"\"\n",
    "    url = endpoint + \"/index\"\n",
    "    response = requests.get(url, headers=headers)\n",
    "    try:\n",
    "        indexes = json.loads(response.text)\n",
    "        return indexes[\"index_name\"]\n",
    "    except json.JSONDecodeError:\n",
    "        print(response.text)\n",
    "        return response\n",
    "\n",
    "\n",
    "def index_status(index_name: str) -> requests.Response:\n",
    "    url = endpoint + f\"/index/status/{index_name}\"\n",
    "    return requests.get(url, headers=headers)\n",
    "\n",
    "\n",
    "def list_entity_configs() -> list:\n",
    "    \"\"\"List all entity configurations.\"\"\"\n",
    "    url = endpoint + \"/index/config/entity\"\n",
    "    response = requests.get(url, headers=headers)\n",
    "    try:\n",
    "        entity_types = json.loads(response.text)\n",
    "        return entity_types[\"entity_configuration_name\"]\n",
    "    except json.JSONDecodeError:\n",
    "        print(response.text)\n",
    "        return response\n",
    "\n",
    "\n",
    "def create_entity_config(\n",
    "    name: str,\n",
    "    entity_type: list[str],\n",
    "    examples,\n",
    ") -> requests.Response:\n",
    "    \"\"\"Create a new entity configuration.\"\"\"\n",
    "    url = endpoint + \"/index/config/entity\"\n",
    "    request = json.dumps(\n",
    "        {\n",
    "            \"entity_configuration_name\": name,\n",
    "            \"entity_types\": entity_type,\n",
    "            \"entity_examples\": examples,\n",
    "        }\n",
    "    )\n",
    "    return requests.post(url=url, data=request, headers=headers)\n",
    "\n",
    "\n",
    "def delete_entity_config(name: str) -> requests.Response:\n",
    "    \"\"\"Delete an existing entity configuration.\"\"\"\n",
    "    url = endpoint + f\"/index/config/entity/{name}\"\n",
    "    return requests.delete(url, headers=headers)\n",
    "\n",
    "\n",
    "def modify_entity_config(\n",
    "    name: str,\n",
    "    entity_type: list[str],\n",
    "    examples,\n",
    ") -> requests.Response:\n",
    "    \"\"\"Modify an existing entity configuration.\"\"\"\n",
    "    url = endpoint + \"/index/config/entity\"\n",
    "    request = {\n",
    "        \"entity_configuration_name\": name,\n",
    "        \"entity_types\": entity_type,\n",
    "        \"entity_examples\": examples,\n",
    "    }\n",
    "    return requests.put(url=url, json=request, headers=headers)\n",
    "\n",
    "\n",
    "def get_entity_config(name: str) -> requests.Response:\n",
    "    \"\"\"Get an existing entity configuration.\"\"\"\n",
    "    url = endpoint + f\"/index/config/entity/{name}\"\n",
    "    return requests.get(url, headers=headers)\n",
    "\n",
    "\n",
    "def global_search(index_name: str | list[str], query: str) -> requests.Response:\n",
    "    \"\"\"Run a global query over the knowledge graph(s) associated with one or more indexes\"\"\"\n",
    "    url = endpoint + \"/query/global\"\n",
    "    request = {\"index_name\": index_name, \"query\": query}\n",
    "    return requests.post(url, json=request, headers=headers)\n",
    "\n",
    "\n",
    "def global_search_streaming(\n",
    "    index_name: str | list[str], query: str\n",
    ") -> requests.Response:\n",
    "    \"\"\"Run a global query across one or more indexes and stream back the response\"\"\"\n",
    "    url = endpoint + \"/experimental/query/global/streaming\"\n",
    "    request = {\"index_name\": index_name, \"query\": query}\n",
    "    context_list = []\n",
    "    with requests.post(url, json=request, headers=headers, stream=True) as r:\n",
    "        r.raise_for_status()\n",
    "        for chunk in r.iter_lines(chunk_size=256 * 1024, decode_unicode=True):\n",
    "            try:\n",
    "                payload = json.loads(chunk)\n",
    "                token = payload[\"token\"]\n",
    "                context = payload[\"context\"]\n",
    "                if token != \"<EOM>\":\n",
    "                    print(token, end=\"\")\n",
    "                elif (token == \"<EOM>\") and not context:\n",
    "                    print(\"\\n\")  # transition from output message to context\n",
    "                else:\n",
    "                    context_list.append(context)\n",
    "            except json.JSONDecodeError:\n",
    "                print(type(chunk), len(chunk), sys.getsizeof(chunk), chunk, end=\"\\n\")\n",
    "    display(pd.DataFrame.from_dict(context_list).head(10))\n",
    "\n",
    "\n",
    "def local_search(index_name: str | list[str], query: str) -> requests.Response:\n",
    "    \"\"\"Run a local query over the knowledge graph(s) associated with one or more indexes\"\"\"\n",
    "    url = endpoint + \"/query/local\"\n",
    "    request = {\"index_name\": index_name, \"query\": query}\n",
    "    return requests.post(url, json=request, headers=headers)\n",
    "\n",
    "\n",
    "def get_graph_stats(index_name: str) -> requests.Response:\n",
    "    \"\"\"Get basic statistics about the knowledge graph constructed by GraphRAG.\"\"\"\n",
    "    url = endpoint + f\"/graph/stats/{index_name}\"\n",
    "    return requests.get(url, headers=headers)\n",
    "\n",
    "\n",
    "def save_graphml_file(index_name: str, graphml_file_name: str) -> None:\n",
    "    \"\"\"Retrieve and save a graphml file that represents the knowledge graph.\n",
    "    The file is downloaded in chunks and saved to the local file system.\n",
    "    \"\"\"\n",
    "    url = endpoint + f\"/graph/graphml/{index_name}\"\n",
    "    if Path(graphml_file_name).suffix != \".graphml\":\n",
    "        raise UserWarning(f\"{graphml_file_name} must have a .graphml file extension\")\n",
    "    with requests.get(url, headers=headers, stream=True) as r:\n",
    "        r.raise_for_status()\n",
    "        with open(graphml_file_name, \"wb\") as f:\n",
    "            for chunk in r.iter_content(chunk_size=1024):\n",
    "                f.write(chunk)\n",
    "\n",
    "\n",
    "def get_report(index_name: str, report_id: str) -> requests.Response:\n",
    "    \"\"\"Retrieve a report generated by GraphRAG for a specific index.\"\"\"\n",
    "    url = endpoint + f\"/source/report/{index_name}/{report_id}\"\n",
    "    return requests.get(url, headers=headers)\n",
    "\n",
    "\n",
    "def get_entity(index_name: str, entity_id: str) -> requests.Response:\n",
    "    \"\"\"Retrieve an entity generated by GraphRAG for a specific index.\"\"\"\n",
    "    url = endpoint + f\"/source/entity/{index_name}/{entity_id}\"\n",
    "    return requests.get(url, headers=headers)\n",
    "\n",
    "\n",
    "def get_relationship(index_name: str, relationship_id: str) -> requests.Response:\n",
    "    \"\"\"Retrieve a relationship generated by GraphRAG for a specific index.\"\"\"\n",
    "    url = endpoint + f\"/source/relationship/{index_name}/{relationship_id}\"\n",
    "    return requests.get(url, headers=headers)\n",
    "\n",
    "\n",
    "def get_claim(index_name: str, claim_id: str) -> requests.Response:\n",
    "    \"\"\"Retrieve a claim/covariate generated by GraphRAG for a specific index.\"\"\"\n",
    "    url = endpoint + f\"/source/claim/{index_name}/{claim_id}\"\n",
    "    return requests.get(url, headers=headers)\n",
    "\n",
    "\n",
    "def get_text_unit(index_name: str, text_unit_id: str) -> requests.Response:\n",
    "    \"\"\"Retrieve a text unit generated by GraphRAG for a specific index.\"\"\"\n",
    "    url = endpoint + f\"/source/text/{index_name}/{text_unit_id}\"\n",
    "    return requests.get(url, headers=headers)\n",
    "\n",
    "\n",
    "def parse_query_response(\n",
    "    response: requests.Response, return_context_data: bool = False\n",
    ") -> requests.Response | dict[list[dict]]:\n",
    "    \"\"\"\n",
    "    Prints response['result'] value and optionally\n",
    "    returns associated context data.\n",
    "    \"\"\"\n",
    "    if response.ok:\n",
    "        print(json.loads(response.text)[\"result\"])\n",
    "        if return_context_data:\n",
    "            return json.loads(response.text)[\"context_data\"]\n",
    "        return response\n",
    "    else:\n",
    "        print(response.reason)\n",
    "        print(response.content)\n",
    "        return response"
   ]
  },
  {
   "cell_type": "markdown",
   "id": "108b4c9d-3b6b-4a56-bd23-2f4db9a73b18",
   "metadata": {},
   "source": [
    "## Upload files\n",
    "Use the API to upload a collection of local files. The API will automatically creates a new data blob container to host these files in. For a set of large files, consider reducing the batch upload size in order to not overwhelm the API endpoint and prevent out-of-memory problems."
   ]
  },
  {
   "cell_type": "code",
   "execution_count": null,
   "id": "ce6eb92e-4fee-45fe-ac7c-be4d795ac0c2",
   "metadata": {
    "tags": []
   },
   "outputs": [],
   "source": [
    "response = upload_files(\n",
    "    file_directory=file_directory,\n",
    "    storage_name=storage_name,\n",
    "    batch_size=100,\n",
    "    overwrite=True,\n",
    ")\n",
    "print(response)"
   ]
  },
  {
   "cell_type": "markdown",
   "id": "baa8fc28-0ab7-48c9-adc6-7fdfdb2a79e0",
   "metadata": {},
   "source": [
    "#### To list all existing data storage containers:"
   ]
  },
  {
   "cell_type": "code",
   "execution_count": null,
   "id": "a840b2f9-6959-4d75-934d-64e5053412d8",
   "metadata": {},
   "outputs": [],
   "source": [
    "response = list_files()\n",
    "print(response)\n",
    "pprint(response.json())"
   ]
  },
  {
   "cell_type": "markdown",
   "id": "32dc539e",
   "metadata": {},
   "source": [
    "#### To remove files from the GraphRAG service:"
   ]
  },
  {
   "cell_type": "code",
   "execution_count": null,
   "id": "eb6c4615",
   "metadata": {},
   "outputs": [],
   "source": [
    "# # uncomment this cell to delete data container\n",
    "# response = delete_files(storage_name)\n",
    "# print(response)\n",
    "# pprint(response.text)"
   ]
  },
  {
   "cell_type": "markdown",
   "id": "f38638d9-7511-4e57-b4b1-c402b9fbdd78",
   "metadata": {},
   "source": [
    "## Entity Configuration (optional)\n",
    "\n",
    "GraphRAG builds a knowledge graph (KG) from data based on the ability to first identify entities and the relationships between them. Defining a _good_ schema for entities can be a critical step to constructing a high-quality KG. An example is provided below.\n",
    "\n",
    "Note: Defining an entity configuration is optional but highly encouraged for better performance in domain-specific scenarios. If an entity configuration is not provided, a default entity configuration by the graphrag python package will be used."
   ]
  },
  {
   "cell_type": "markdown",
   "id": "38e0c2f7",
   "metadata": {},
   "source": [
    "#### Create a new entity configuration\n",
    "\n",
    "An entity configuration object consist of a list of entity types that we will ask the LLM to identify along with a few examples to be used for few-shot prompting."
   ]
  },
  {
   "cell_type": "code",
   "execution_count": null,
   "id": "e0437322",
   "metadata": {
    "tags": []
   },
   "outputs": [],
   "source": [
    "# provide a unique name to refer to the entity configuration by\n",
    "entity_configuration_name = f\"{index_name}_entity_schema\"\n",
    "\n",
    "# provide a list of entity type labels\n",
    "entity_types = [\"ORGANIZATION\"]\n",
    "\n",
    "# provide a self-labeled example of how the entity types will appear in the data\n",
    "entity_examples = [\n",
    "    {\n",
    "        \"entity_types\": \"ORGANIZATION\",\n",
    "        \"text\": \"Arm's (ARM) stock skyrocketed in its opening day on the Nasdaq Thursday. But IPO experts warn that the British chipmaker's debut on the public markets isn't indicative of how other newly listed companies may perform.\\n\\nArm, a formerly public company, was taken private by SoftBank in 2016. The well-established chip designer says it powers 99% of premium smartphones.\",\n",
    "        \"output\": '(\"entity\"{tuple_delimiter}ARM{tuple_delimiter}ORGANIZATION{tuple_delimiter}Arm is a stock now listed on the Nasdaq which powers 99% of premium smartphones)\\n{record_delimiter}\\n(\"entity\"{tuple_delimiter}SOFTBANK{tuple_delimiter}ORGANIZATION{tuple_delimiter}SoftBank is a firm that previously owned Arm)\\n{record_delimiter}\\n(\"relationship\"{tuple_delimiter}ARM{tuple_delimiter}SOFTBANK{tuple_delimiter}SoftBank formerly owned Arm from 2016 until present{tuple_delimiter}5)\\n{completion_delimiter}',\n",
    "    }\n",
    "]\n",
    "\n",
    "# upload and save the entity configuration\n",
    "response = create_entity_config(\n",
    "    entity_configuration_name, entity_types, entity_examples\n",
    ")\n",
    "print(response)\n",
    "if response.ok:\n",
    "    print(response.text)"
   ]
  },
  {
   "cell_type": "markdown",
   "id": "c7d01cc8",
   "metadata": {},
   "source": [
    "#### Modify an existing entity configuration\n",
    "An existing entity configuration object can be modified. Note that the update process is a full-replacement, not additive (i.e. updating the entity schema overwrites the existing schema)"
   ]
  },
  {
   "cell_type": "code",
   "execution_count": null,
   "id": "6a14ea47",
   "metadata": {
    "tags": []
   },
   "outputs": [],
   "source": [
    "# provide a list of entity type labels\n",
    "entity_types = [\"ORGANIZATION\", \"GEO\", \"PERSON\"]\n",
    "\n",
    "# provide a few self-labeled examples of how the entity types will appear in the data\n",
    "entity_examples = [\n",
    "    {\n",
    "        \"entity_types\": \"ORGANIZATION, PERSON\",\n",
    "        \"text\": \"The Fed is scheduled to meet on Tuesday and Wednesday, with the central bank planning to release its latest policy decision on Wednesday at 2:00 p.m. ET, followed by a press conference where Fed Chair Jerome Powell will take questions. Investors expect the Federal Open Market Committee to hold its benchmark interest rate steady in a range of 5.25%-5.5%.\",\n",
    "        \"output\": '(\"entity\"{tuple_delimiter}FED{tuple_delimiter}ORGANIZATION{tuple_delimiter}The Fed is the Federal Reserve, which will set interest rates on Tuesday and Wednesday)\\n{record_delimiter}\\n(\"entity\"{tuple_delimiter}JEROME POWELL{tuple_delimiter}PERSON{tuple_delimiter}Jerome Powell is the chair of the Federal Reserve)\\n{record_delimiter}\\n(\"entity\"{tuple_delimiter}FEDERAL OPEN MARKET COMMITTEE{tuple_delimiter}ORGANIZATION{tuple_delimiter}The Federal Reserve committee makes key decisions about interest rates and the growth of the United States money supply)\\n{record_delimiter}\\n(\"relationship\"{tuple_delimiter}JEROME POWELL{tuple_delimiter}FED{tuple_delimiter}Jerome Powell is the Chair of the Federal Reserve and will answer questions at a press conference{tuple_delimiter}9)\\n{completion_delimiter}',\n",
    "    },\n",
    "    {\n",
    "        \"entity_types\": \"ORGANIZATION\",\n",
    "        \"text\": \"Arm's (ARM) stock skyrocketed in its opening day on the Nasdaq Thursday. But IPO experts warn that the British chipmaker's debut on the public markets isn't indicative of how other newly listed companies may perform.\\n\\nArm, a formerly public company, was taken private by SoftBank in 2016. The well-established chip designer says it powers 99% of premium smartphones.\",\n",
    "        \"output\": '(\"entity\"{tuple_delimiter}ARM{tuple_delimiter}ORGANIZATION{tuple_delimiter}Arm is a stock now listed on the Nasdaq which powers 99% of premium smartphones)\\n{record_delimiter}\\n(\"entity\"{tuple_delimiter}SOFTBANK{tuple_delimiter}ORGANIZATION{tuple_delimiter}SoftBank is a firm that previously owned Arm)\\n{record_delimiter}\\n(\"relationship\"{tuple_delimiter}ARM{tuple_delimiter}SOFTBANK{tuple_delimiter}SoftBank formerly owned Arm from 2016 until present{tuple_delimiter}5)\\n{completion_delimiter}',\n",
    "    },\n",
    "    {\n",
    "        \"entity_types\": \"ORGANIZATION,GEO,PERSON\",\n",
    "        \"text\": \"Five Americans jailed for years in Iran and widely regarded as hostages are on their way home to the United States.\\n\\nThe last pieces in a controversial swap mediated by Qatar fell into place when $6bn (£4.8bn) of Iranian funds held in South Korea reached banks in Doha.\\n\\nIt triggered the departure of the four men and one woman in Tehran, who are also Iranian citizens, on a chartered flight to Qatar's capital.\\n\\nThey were met by senior US officials and are now on their way to Washington.\\n\\nThe Americans include 51-year-old businessman Siamak Namazi, who has spent nearly eight years in Tehran's notorious Evin prison, as well as businessman Emad Shargi, 59, and environmentalist Morad Tahbaz, 67, who also holds British nationality.\",\n",
    "        \"output\": '(\"entity\"{tuple_delimiter}IRAN{tuple_delimiter}GEO{tuple_delimiter}Iran held American citizens as hostages)\\n{record_delimiter}\\n(\"entity\"{tuple_delimiter}UNITED STATES{tuple_delimiter}GEO{tuple_delimiter}Country seeking to release hostages)\\n{record_delimiter}\\n(\"entity\"{tuple_delimiter}QATAR{tuple_delimiter}GEO{tuple_delimiter}Country that negotiated a swap of money in exchange for hostages)\\n{record_delimiter}\\n(\"entity\"{tuple_delimiter}SOUTH KOREA{tuple_delimiter}GEO{tuple_delimiter}Country holding funds from Iran)\\n{record_delimiter}\\n(\"entity\"{tuple_delimiter}TEHRAN{tuple_delimiter}GEO{tuple_delimiter}Capital of Iran where the Iranian hostages were being held)\\n{record_delimiter}\\n(\"entity\"{tuple_delimiter}DOHA{tuple_delimiter}GEO{tuple_delimiter}Capital city in Qatar)\\n{record_delimiter}\\n(\"entity\"{tuple_delimiter}WASHINGTON{tuple_delimiter}GEO{tuple_delimiter}Capital city in United States)\\n{record_delimiter}\\n(\"entity\"{tuple_delimiter}SIAMAK NAMAZI{tuple_delimiter}PERSON{tuple_delimiter}Hostage who spent time in Tehran\\'s Evin prison)\\n{record_delimiter}\\n(\"entity\"{tuple_delimiter}EVIN PRISON{tuple_delimiter}GEO{tuple_delimiter}Notorious prison in Tehran)\\n{record_delimiter}\\n(\"entity\"{tuple_delimiter}EMAD SHARGI{tuple_delimiter}PERSON{tuple_delimiter}Businessman who was held hostage)\\n{record_delimiter}\\n(\"entity\"{tuple_delimiter}MORAD TAHBAZ{tuple_delimiter}PERSON{tuple_delimiter}British national and environmentalist who was held hostage)\\n{record_delimiter}\\n(\"relationship\"{tuple_delimiter}IRAN{tuple_delimiter}UNITED STATES{tuple_delimiter}Iran negotiated a hostage exchange with the United States{tuple_delimiter}2)\\n{record_delimiter}\\n(\"relationship\"{tuple_delimiter}QATAR{tuple_delimiter}UNITED STATES{tuple_delimiter}Qatar brokered the hostage exchange between Iran and the United States{tuple_delimiter}2)\\n{record_delimiter}\\n(\"relationship\"{tuple_delimiter}QATAR{tuple_delimiter}IRAN{tuple_delimiter}Qatar brokered the hostage exchange between Iran and the United States{tuple_delimiter}2)\\n{record_delimiter}\\n(\"relationship\"{tuple_delimiter}SIAMAK NAMAZI{tuple_delimiter}EVIN PRISON{tuple_delimiter}Siamak Namazi was a prisoner at Evin prison{tuple_delimiter}8)\\n{record_delimiter}\\n(\"relationship\"{tuple_delimiter}SIAMAK NAMAZI{tuple_delimiter}MORAD TAHBAZ{tuple_delimiter}Siamak Namazi and Morad Tahbaz were exchanged in the same hostage release{tuple_delimiter}2)\\n{record_delimiter}\\n(\"relationship\"{tuple_delimiter}SIAMAK NAMAZI{tuple_delimiter}EMAD SHARGI{tuple_delimiter}Siamak Namazi and Emad Shargi were exchanged in the same hostage release{tuple_delimiter}2)\\n{record_delimiter}\\n(\"relationship\"{tuple_delimiter}MORAD TAHBAZ{tuple_delimiter}EMAD SHARGI{tuple_delimiter}Morad Tahbaz and Emad Shargi were exchanged in the same hostage release{tuple_delimiter}2)\\n{record_delimiter}\\n(\"relationship\"{tuple_delimiter}SIAMAK NAMAZI{tuple_delimiter}IRAN{tuple_delimiter}Siamak Namazi was a hostage in Iran{tuple_delimiter}2)\\n{record_delimiter}\\n(\"relationship\"{tuple_delimiter}MORAD TAHBAZ{tuple_delimiter}IRAN{tuple_delimiter}Morad Tahbaz was a hostage in Iran{tuple_delimiter}2)\\n{record_delimiter}\\n(\"relationship\"{tuple_delimiter}EMAD SHARGI{tuple_delimiter}IRAN{tuple_delimiter}Emad Shargi was a hostage in Iran{tuple_delimiter}2)\\n{completion_delimiter}',\n",
    "    },\n",
    "]\n",
    "\n",
    "# upload and overwrite the entity configuration\n",
    "response = modify_entity_config(\n",
    "    entity_configuration_name, entity_types, entity_examples\n",
    ")\n",
    "print(response)\n",
    "if response.ok:\n",
    "    print(response.text)"
   ]
  },
  {
   "cell_type": "markdown",
   "id": "d45541cf-319e-466d-9f23-940a3f5ca1ac",
   "metadata": {},
   "source": [
    "#### Get entity configuration\n",
    "To retrieve an entity configuration that has been previously uploaded:"
   ]
  },
  {
   "cell_type": "code",
   "execution_count": null,
   "id": "b56388da-4ae1-4103-99cc-5cb1bac324ae",
   "metadata": {},
   "outputs": [],
   "source": [
    "response = get_entity_config(entity_configuration_name)\n",
    "print(response)\n",
    "if response.ok:\n",
    "    for example in json.loads(response.text)[\"entity_examples\"]:\n",
    "        for k, v in example.items():\n",
    "            print(\"{}: {}\\n\".format(k, v))\n",
    "        print()\n",
    "else:\n",
    "    print(response.text)"
   ]
  },
  {
   "cell_type": "markdown",
   "id": "064cac30-6ec2-4f93-bc0e-fc2c43a6b09b",
   "metadata": {},
   "source": [
    "#### List entity configuration\n",
    "To see the current state of what entity schema configurations exist in the GraphRAG service, you may retrieve a list of all entity configurations previously created."
   ]
  },
  {
   "cell_type": "code",
   "execution_count": null,
   "id": "06684332-9d21-444f-98b4-13b33174c7bd",
   "metadata": {
    "tags": []
   },
   "outputs": [],
   "source": [
    "all_entity_configs = list_entity_configs()\n",
    "pprint(all_entity_configs)"
   ]
  },
  {
   "cell_type": "markdown",
   "id": "5dc03225",
   "metadata": {},
   "source": [
    "#### Delete an existing entity configuration\n",
    "If an entity schema is no longer needed, remove it from the GraphRAG service."
   ]
  },
  {
   "cell_type": "code",
   "execution_count": null,
   "id": "c20f8686",
   "metadata": {},
   "outputs": [],
   "source": [
    "# # uncomment this cell to delete entity configuration\n",
    "# response = delete_entity_config(entity_configuration_name)\n",
    "# print(response)\n",
    "# pprint(response.json())"
   ]
  },
  {
   "cell_type": "markdown",
   "id": "05c9da8a-f1e6-4d5e-8a2d-83f36575c45c",
   "metadata": {},
   "source": [
    "## Indexing\n",
    "\n",
    "After data files have been uploaded and an (optional) entity configuration has been created in the GraphRAG service, it is now possible to construct a knowledge graph by creating a search index. If an entity configuration is not provided, a default entity configuration will be used that has been shown to generally work well."
   ]
  },
  {
   "cell_type": "markdown",
   "id": "e937d70f",
   "metadata": {},
   "source": [
    "#### Start a new indexing job"
   ]
  },
  {
   "cell_type": "code",
   "execution_count": null,
   "id": "6273ec0f-4d07-4b44-a030-d82e1980da4e",
   "metadata": {
    "tags": []
   },
   "outputs": [],
   "source": [
    "response = build_index(\n",
    "    storage_name=storage_name,\n",
    "    index_name=index_name,\n",
    "    entity_config_name=entity_configuration_name\n",
    "    if \"entity_configuration_name\" in locals()\n",
    "    else None,\n",
    ")\n",
    "print(response)\n",
    "if response.ok:\n",
    "    print(response.text)\n",
    "else:\n",
    "    print(f\"Failed to submit job.\\nStatus: {response.text}\")"
   ]
  },
  {
   "cell_type": "markdown",
   "id": "6156aa55",
   "metadata": {},
   "source": [
    "Note: An indexing job may fail sometimes due to insufficient TPM quota of the GPT-4 turbo model. In this situation, an indexing job can be restarted by re-running the cell above with the same parameters. `graphrag` caches previous indexing results as a cost-savings measure so that restarting indexing jobs will \"pick up\" where the last job stopped."
   ]
  },
  {
   "cell_type": "markdown",
   "id": "2f02b904-eebe-4067-8561-b826681849cd",
   "metadata": {},
   "source": [
    "#### Check the status of an indexing job"
   ]
  },
  {
   "cell_type": "code",
   "execution_count": null,
   "id": "5f193bed-87cd-42ac-b8ae-859c3eff6197",
   "metadata": {
    "tags": []
   },
   "outputs": [],
   "source": [
    "response = index_status(index_name)\n",
    "print(response)\n",
    "pprint(response.json())"
   ]
  },
  {
   "cell_type": "markdown",
   "id": "4dbccb0c-9cfd-4aff-92fa-aa05596b5157",
   "metadata": {},
   "source": [
    "#### List indexes\n",
    "To view a list of all indexes that exist in the GraphRAG service:"
   ]
  },
  {
   "cell_type": "code",
   "execution_count": null,
   "id": "c87f3391-9a9f-424e-bd7a-5ad2dd65e8bf",
   "metadata": {},
   "outputs": [],
   "source": [
    "all_indexes = list_indexes()\n",
    "pprint(all_indexes)"
   ]
  },
  {
   "cell_type": "markdown",
   "id": "9f659674-ef07-4fde-86cd-ce2d52d5b5e6",
   "metadata": {},
   "source": [
    "#### Delete an indexing job\n",
    "If an index is no longer needed, remove it from the GraphRAG service."
   ]
  },
  {
   "cell_type": "code",
   "execution_count": null,
   "id": "b644950e-793a-4670-a292-2c4d7bec167f",
   "metadata": {},
   "outputs": [],
   "source": [
    "# # uncomment this cell to delete entity configuration\n",
    "# response = delete_index(index_name)\n",
    "# print(response)\n",
    "# pprint(response.json())"
   ]
  },
  {
   "cell_type": "markdown",
   "id": "fb877414-0e75-42f4-a27e-6d2becd7f7d0",
   "metadata": {},
   "source": [
    "## Query\n",
    "\n",
    "After an indexing job has completed, the knowledge graph is ready to query. Two types of queries (global and local) are currently supported. In addition, you can issue a query over a single index or multiple indexes."
   ]
  },
  {
   "cell_type": "markdown",
   "id": "e6b81973-d061-461d-96c3-031e0245ebb7",
   "metadata": {},
   "source": [
    "#### Global Search\n",
    "\n",
    "Global search queries are resource-intensive, but give good responses to questions that require an understanding of the dataset as a whole."
   ]
  },
  {
   "cell_type": "code",
   "execution_count": null,
   "id": "4a1aa153",
   "metadata": {
    "tags": []
   },
   "outputs": [],
   "source": [
    "%%time\n",
    "# pass in a single index name as a string or to query across multiple indexes, set index_name=[myindex1, myindex2]\n",
    "global_response = global_search(\n",
    "    index_name=index_name, query=\"Summarize the main topics of this data\"\n",
    ")\n",
    "# print the result and save context data in a variable\n",
    "global_response_data = parse_query_response(global_response, return_context_data=True)\n",
    "global_response_data"
   ]
  },
  {
   "cell_type": "markdown",
   "id": "6a86acb8",
   "metadata": {},
   "source": [
    "An *experimental* API endpoint has been designed to support streaming back the graphrag response while executing a global query (useful in chatbot applications)."
   ]
  },
  {
   "cell_type": "code",
   "execution_count": null,
   "id": "b7146e72",
   "metadata": {},
   "outputs": [],
   "source": [
    "global_search_streaming(\n",
    "    index_name=index_name, query=\"Summarize the main topics of this data\"\n",
    ")"
   ]
  },
  {
   "cell_type": "markdown",
   "id": "1f0c4e79",
   "metadata": {},
   "source": [
    "#### Local Search\n",
    "\n",
    "Local search queries are best suited for narrow-focused questions that require an understanding of specific entities mentioned in the documents (e.g. What are the healing properties of chamomile?)"
   ]
  },
  {
   "cell_type": "code",
   "execution_count": null,
   "id": "42a89af0-e13d-41c4-89e7-136bbf5256a4",
   "metadata": {
    "tags": []
   },
   "outputs": [],
   "source": [
    "%%time\n",
    "# pass in a single index name as a string or to query across multiple indexes, set index_name=[myindex1, myindex2]\n",
    "local_response = local_search(\n",
    "    index_name=index_name, query=\"Who are the primary actors in these communities?\"\n",
    ")\n",
    "# print the result and save context data in a variable\n",
    "local_response_data = parse_query_response(local_response, return_context_data=True)\n",
    "local_response_data"
   ]
  },
  {
   "cell_type": "markdown",
   "id": "9395181b-a0a2-47d2-8419-edd268c16a56",
   "metadata": {},
   "source": [
    "## Sources\n",
    "\n",
    "In a query response, citations will often appear that support GraphRAG's response. API endpoints are provided to enable retrieval of the sourced documents, entities, relationships, etc.\n",
    "\n",
    "Multiple types of sources may be referenced in a query: Reports, Entities, Relationships, Claims, and Text Units. The API provides various endpoints to retrieve these sources for data provenance."
   ]
  },
  {
   "cell_type": "markdown",
   "id": "783e5b22-02d3-429f-9b2b-01529147eb5b",
   "metadata": {},
   "source": [
    "#### Get a Report"
   ]
  },
  {
   "cell_type": "code",
   "execution_count": null,
   "id": "7ebd8f8e-4ba2-45f0-8b6b-15e85b53309d",
   "metadata": {
    "tags": []
   },
   "outputs": [],
   "source": [
    "report = get_report(index_name, 0)\n",
    "print(report.json()[\"text\"]) if report.ok else (report.reason, report.content)"
   ]
  },
  {
   "cell_type": "markdown",
   "id": "fec9c432-a11e-4d52-94f1-a896fb72d708",
   "metadata": {},
   "source": [
    "#### Get an Entity"
   ]
  },
  {
   "cell_type": "code",
   "execution_count": null,
   "id": "56c3a6de-36a0-40a4-9d2e-2f4a9d4efdad",
   "metadata": {
    "tags": []
   },
   "outputs": [],
   "source": [
    "entity = get_entity(index_name, 0)\n",
    "entity.json() if entity.ok else (entity.reason, entity.content)"
   ]
  },
  {
   "cell_type": "markdown",
   "id": "5b9b708c-3d25-4474-9267-7831565626c2",
   "metadata": {
    "tags": []
   },
   "source": [
    "#### Get a Relationship"
   ]
  },
  {
   "cell_type": "code",
   "execution_count": null,
   "id": "d83e208a-ed93-4dde-96b0-c1fc6fd52c33",
   "metadata": {
    "tags": []
   },
   "outputs": [],
   "source": [
    "relationship = get_relationship(index_name, 1)\n",
    "relationship.json() if relationship.ok else (relationship.reason, relationship.content)"
   ]
  },
  {
   "cell_type": "markdown",
   "id": "01b50cb6",
   "metadata": {},
   "source": [
    "#### Get a Claim"
   ]
  },
  {
   "cell_type": "code",
   "execution_count": null,
   "id": "d7e7d485",
   "metadata": {},
   "outputs": [],
   "source": [
    "claim_response = get_claim(index_name, 1)\n",
    "if claim_response.ok:\n",
    "    pprint(claim_response.json())\n",
    "else:\n",
    "    print(claim_response)\n",
    "    print(claim_response.text)"
   ]
  },
  {
   "cell_type": "markdown",
   "id": "dc0b96ce-e8f0-4936-838e-ff4c7e437935",
   "metadata": {
    "tags": []
   },
   "source": [
    "#### Get a Text Unit"
   ]
  },
  {
   "cell_type": "code",
   "execution_count": null,
   "id": "0cb27286-e5cd-434b-9ef8-6d3d500c57c2",
   "metadata": {
    "tags": []
   },
   "outputs": [],
   "source": [
    "text_unit_id = \"\"  ### Get a text unit id from one of previous Source results\n",
    "if not text_unit_id:\n",
    "    raise ValueError(\n",
    "        \"Must provide a text_unit_id from previous source results. Look for 'text_units' in the response.\"\n",
    "    )\n",
    "text_unit = get_text_unit(index_name, text_unit_id)\n",
    "if text_unit.ok:\n",
    "    print(text_unit.json()[\"text\"])\n",
    "else:\n",
    "    print(text_unit.reason)\n",
    "    print(text_unit.content)"
   ]
  },
  {
   "cell_type": "markdown",
   "id": "e49b81fb",
   "metadata": {},
   "source": [
    "## Exploring the GraphRAG knowledge graph\n",
    "The API currently provides some basic functionality to better understand the knowledge graph that was constructed during the indexing process.\n",
    "\n",
    "In addition, an option is available to export the graph to a graphml file which can be imported by other open source visualization software (we recommend [Gephi](https://gephi.org/)) for deeper exploration."
   ]
  },
  {
   "cell_type": "markdown",
   "id": "d4613373",
   "metadata": {},
   "source": [
    "#### Basic knowledge graph statistics"
   ]
  },
  {
   "cell_type": "code",
   "execution_count": null,
   "id": "b021bb36",
   "metadata": {},
   "outputs": [],
   "source": [
    "response = get_graph_stats(index_name)\n",
    "print(response)\n",
    "print(response.text)"
   ]
  },
  {
   "cell_type": "markdown",
   "id": "e910bbb5",
   "metadata": {},
   "source": [
    "#### Get a GraphML file"
   ]
  },
  {
   "cell_type": "code",
   "execution_count": null,
   "id": "e58a3047",
   "metadata": {},
   "outputs": [],
   "source": [
    "# will save graphml file to the current local directory\n",
    "save_graphml_file(index_name, \"knowledge_graph.graphml\")"
   ]
  }
 ],
 "metadata": {
  "kernelspec": {
   "display_name": "graphrag-venv",
   "language": "python",
   "name": "python3"
  },
  "language_info": {
   "codemirror_mode": {
    "name": "ipython",
    "version": 3
   },
   "file_extension": ".py",
   "mimetype": "text/x-python",
   "name": "python",
   "nbconvert_exporter": "python",
   "pygments_lexer": "ipython3",
   "version": "3.10.13"
  }
 },
 "nbformat": 4,
 "nbformat_minor": 5
}
