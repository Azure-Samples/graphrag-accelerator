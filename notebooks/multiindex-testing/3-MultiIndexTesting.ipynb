{
 "cells": [
  {
   "cell_type": "markdown",
   "metadata": {},
   "source": [
    "### Multi Index Testing with graphrag library API"
   ]
  },
  {
   "cell_type": "code",
   "execution_count": 103,
   "metadata": {},
   "outputs": [],
   "source": [
    "# Import query api from graphrag library\n",
    "# Make sure to install graphrag version 0.3.0 to be able to get these packages\n",
    "from graphrag.query.api import global_search, local_search\n",
    "\n",
    "import os\n",
    "import inspect\n",
    "import yaml\n",
    "from graphrag.config import create_graphrag_config\n",
    "import pandas as pd "
   ]
  },
  {
   "cell_type": "code",
   "execution_count": 104,
   "metadata": {},
   "outputs": [],
   "source": [
    "# Load custom pipeline settings m\n",
    "this_directory = os.path.dirname(\n",
    "            os.path.abspath(inspect.getfile(inspect.currentframe()))\n",
    "        )\n",
    "data = yaml.safe_load(open(f\"./pipeline-settings.yaml\"))\n",
    "# layer the custom settings on top of the default configuration settings of graphrag\n",
    "parameters = create_graphrag_config(data, \".\")"
   ]
  },
  {
   "cell_type": "markdown",
   "metadata": {},
   "source": [
    "##### Logic to iterate through indexes, convert parquets to dataframes, append dataframes to a list, then concat them together to pass to graphrag.query.api"
   ]
  },
  {
   "cell_type": "code",
   "execution_count": 133,
   "metadata": {},
   "outputs": [
    {
     "name": "stdout",
     "output_type": "stream",
     "text": [
      "File ./arizona/output/20240820-192210/artifacts/create_final_covariates.parquet does not exist.\n",
      "File ./alaska/output/20240820-192925/artifacts/create_final_covariates.parquet does not exist.\n"
     ]
    }
   ],
   "source": [
    "# Index folder names\n",
    "\n",
    "index_names = ['./arizona', './alaska']\n",
    "\n",
    "nodes_dfs =[]\n",
    "community_dfs =[]\n",
    "entities_dfs = []\n",
    "text_units_dfs=[]\n",
    "relationships_dfs = []\n",
    "covariates_dfs = []\n",
    "\n",
    "links = {\"nodes\": {}, \"community\": {}, \"entities\": {}, \"text_units\": {}, \"relationships\": {}, \"covariates\": {}}\n",
    "max_vals = {\"nodes\": -1, \"community\": -1, \"entities\": -1, \"text_units\": -1, \"relationships\": -1, \"covariates\": -1}\n",
    "\n",
    "for index_name in index_names:\n",
    "    # Construct the path to the output directory\n",
    "    output_path = os.path.join(index_name, \"output\")\n",
    "    # Get all subdirectories in the output folder\n",
    "    subdirs = [os.path.join(output_path, d) for d in os.listdir(output_path) if os.path.isdir(os.path.join(output_path, d))]\n",
    "    \n",
    "    # Find the most recently created subdirectory\n",
    "    most_recent_subdir = max(subdirs, key=os.path.getmtime)\n",
    "    \n",
    "    # Construct the path to the respective parquet files, takes the most recent index iteration in the artifacts folder\n",
    "    nodes_file_path = os.path.join(most_recent_subdir, \"artifacts\", \"create_final_nodes.parquet\")\n",
    "    community_report_table_path = os.path.join(most_recent_subdir, \"artifacts\", \"create_final_community_reports.parquet\")  # Adjust the filename/path as necessary\n",
    "    entities_table_path = os.path.join(most_recent_subdir, \"artifacts\", \"create_final_entities.parquet\")  # Adjust the filename/path as necessary\n",
    "    text_units_table_path = os.path.join(most_recent_subdir, \"artifacts\", \"create_final_text_units.parquet\")\n",
    "    relationships_table_path = os.path.join(most_recent_subdir, \"artifacts\", \"create_final_relationships.parquet\")\n",
    "    covariates_table_path = os.path.join(most_recent_subdir, \"artifacts\", \"create_final_covariates.parquet\")\n",
    "    \n",
    "    # Read the parquet file into a DataFrame\n",
    "    #For community df, id column is \"community\" and id type id \"str\". Convert type from \"str\" to \"int\", add max_id to the int, convert back to string and overwrite the column\n",
    "    #For entities df, id column is \"human_readable_id\" and id type id \"int\". Add max_id to the int and overwrite the column\n",
    "    #For nodes df, id column is \"human_readable_id\" and id type id \"int\". Add max_id to the int and overwrite the column\n",
    "    #For text units df, id column is \"id\" and id type is \"str\". Append index name with hyphen to the id and overwrite the column\n",
    "    #For relationships df, id column is \"human_readable_id\" and id type is \"str\". Convert type from \"str\" to \"int\", add max_id to the int, convert back to string and overwrite the column\n",
    "    #For covariates df, id column is \"human_readable_id\" and id type is \"str\". Convert type from \"str\" to \"int\", add max_id to the int, convert back to string and overwrite the column\n",
    "    if os.path.exists(nodes_file_path):\n",
    "        nodes_df = pd.read_parquet(nodes_file_path)\n",
    "        for i in nodes_df[\"human_readable_id\"]:\n",
    "            links[\"nodes\"][i + max_vals[\"nodes\"] + 1] = {\"index_name\": index_name, \"id\": i}\n",
    "        if max_vals[\"nodes\"] != -1:\n",
    "           nodes_df[\"human_readable_id\"] += max_vals[\"nodes\"] + 1\n",
    "        max_vals[\"nodes\"] = nodes_df[\"human_readable_id\"].max() \n",
    "        nodes_dfs.append(nodes_df)\n",
    "    else:\n",
    "        print(f\"File {nodes_file_path} does not exist.\")\n",
    "    \n",
    "    if os.path.exists(community_report_table_path):\n",
    "        community_df = pd.read_parquet(community_report_table_path)\n",
    "        for i in community_df[\"community\"].astype(int):\n",
    "            links[\"community\"][i + max_vals[\"community\"] + 1] = {\"index_name\": index_name, \"id\": str(i)}\n",
    "        if max_vals[\"community\"] != -1:\n",
    "            col = community_df[\"community\"].astype(int) + max_vals[\"community\"] + 1\n",
    "            community_df[\"community\"] = col.astype(str)\n",
    "        max_vals[\"community\"] = community_df[\"community\"].astype(int).max()\n",
    "        community_dfs.append(community_df)\n",
    "    else:\n",
    "        print(f\"File {community_report_table_path} does not exist.\")\n",
    "    \n",
    "    if os.path.exists(entities_table_path):\n",
    "        entities_df= pd.read_parquet(entities_table_path)\n",
    "        for i in entities_df[\"human_readable_id\"]:\n",
    "            links[\"entities\"][i + max_vals[\"entities\"] + 1] = {\"index_name\": index_name, \"id\": i}\n",
    "        if max_vals[\"entities\"] != -1:\n",
    "           entities_df[\"human_readable_id\"] += max_vals[\"entities\"] + 1\n",
    "        max_vals[\"entities\"] = entities_df[\"human_readable_id\"].max()\n",
    "        entities_dfs.append(entities_df)\n",
    "    else:\n",
    "        print(f\"File {entities_table_path} does not exist.\")\n",
    "    \n",
    "    if os.path.exists(text_units_table_path):\n",
    "        text_units_df= pd.read_parquet(text_units_table_path)\n",
    "        text_units_dfs.append(text_units_df)\n",
    "    else:\n",
    "        print(f\"File {text_units_table_path} does not exist.\")\n",
    "    \n",
    "    if os.path.exists(relationships_table_path):\n",
    "        relationships_df= pd.read_parquet(relationships_table_path)\n",
    "        relationships_dfs.append(relationships_df)\n",
    "    else:\n",
    "        print(f\"File {relationships_table_path} does not exist.\")\n",
    "    \n",
    "    if os.path.exists(covariates_table_path):\n",
    "        covariates_df= pd.read_parquet(covariates_table_path)\n",
    "        covariates_dfs.append(covariates_df)\n",
    "    else:\n",
    "        print(f\"File {covariates_table_path} does not exist.\")\n",
    "        covariates_dfs = None"
   ]
  },
  {
   "cell_type": "code",
   "execution_count": 134,
   "metadata": {},
   "outputs": [],
   "source": [
    "nodes_combined = pd.concat(nodes_dfs, axis=0, ignore_index=True)\n",
    "community_combined = pd.concat(community_dfs, axis=0, ignore_index=True)\n",
    "entities_combined = pd.concat(entities_dfs, axis=0, ignore_index=True)\n",
    "text_units_combined = pd.concat(text_units_dfs, axis=0, ignore_index=True)\n",
    "relationships_combined = pd.concat(relationships_dfs, axis=0, ignore_index=True)\n",
    "covariates_combined = pd.concat(covariates_dfs, axis=0, ignore_index=True) if covariates_dfs is not None else None"
   ]
  },
  {
   "cell_type": "code",
   "execution_count": null,
   "metadata": {},
   "outputs": [],
   "source": [
    "result = await global_search(config=parameters,\n",
    "              nodes=nodes_combined,\n",
    "              entities=entities_combined,\n",
    "              community_reports = community_combined,\n",
    "              community_level = 1,\n",
    "              response_type = \"Multiple Paragraphs\",\n",
    "              query= \"where is alaska?\"\n",
    "              )"
   ]
  },
  {
   "cell_type": "code",
   "execution_count": 146,
   "metadata": {},
   "outputs": [
    {
     "name": "stdout",
     "output_type": "stream",
     "text": [
      "### Geographic Location of Alaska\n",
      "\n",
      "Alaska is a state located in the northwest extremity of North America. It is bordered by Canada to the east, the Arctic Ocean to the north, and the Pacific Ocean to the south and west [Data: Reports (57, 59)]. Additionally, Alaska shares a maritime border with Russia in the Bering Strait [Data: Reports (54)].\n",
      "\n",
      "### Key Geographical Features\n",
      "\n",
      "Alaska is renowned for its vast wilderness and diverse wildlife. Significant geographical features include the Alexander Archipelago and the Tongass National Forest [Data: Reports (59)]. The Aleutian Islands, a chain of over 300 small volcanic islands, extend from the southern tip of the Alaska Peninsula into the Pacific Ocean [Data: Reports (57)].\n",
      "\n",
      "In summary, Alaska's unique location and geographical features make it a distinctive state with a rich natural environment.\n"
     ]
    }
   ],
   "source": [
    "print(result[0])"
   ]
  },
  {
   "cell_type": "code",
   "execution_count": 152,
   "metadata": {},
   "outputs": [],
   "source": [
    "update_context = [\n",
    "    dict(\n",
    "        {k: entry[k] for k in entry},\n",
    "        **{\n",
    "            \"index_name\": links[\"community\"][int(entry[\"id\"])][\"index_name\"],\n",
    "            \"index_id\": links[\"community\"][int(entry[\"id\"])][\"id\"],\n",
    "        },\n",
    "    )\n",
    "    for entry in result[1][\"reports\"]\n",
    "]"
   ]
  },
  {
   "cell_type": "code",
   "execution_count": 153,
   "metadata": {},
   "outputs": [
    {
     "name": "stdout",
     "output_type": "stream",
     "text": [
      "{'id': '54', 'title': 'Alaska and Its Key Entities', 'occurrence weight': 0.13636363636363635, 'content': \"# Alaska and Its Key Entities\\n\\nThe community revolves around the state of Alaska, encompassing a wide range of entities including geographical features, indigenous groups, economic sectors, and historical events. Key entities such as the Kenai Peninsula, Matanuska Valley, and the Trans-Alaska Pipeline System play significant roles in the community's structure. The relationships between these entities highlight Alaska's unique geographical, cultural, and economic landscape.\\n\\n## Geographical Significance of Alaska\\n\\nAlaska's geographical features are central to its identity and influence. The state is bordered by the Pacific Ocean to the south and southwest, the Arctic Ocean to the north, and shares a maritime border with Russia in the Bering Strait. These geographical boundaries contribute to Alaska's unique climate and environmental conditions, which in turn affect its economic activities such as fishing and oil extraction [Data: Reports (20); Entities (6, 35, 14); Relationships (5, 50, 49)].\\n\\n## Economic Impact of the Oil and Gas Industry\\n\\nThe oil and gas industry is a major contributor to Alaska's economy, accounting for more than 80% of the state's revenues. The Trans-Alaska Pipeline System, completed in 1977, has been pivotal in transporting crude oil from the North Slope to Valdez, significantly impacting the state's economic development. Additionally, regions like Cook Inlet and Prudhoe Bay are notable for their substantial oil and gas reserves [Data: Reports (20); Entities (247, 119, 240); Relationships (128, 39, 143, 38, 124)].\\n\\n## Agricultural Activities in Alaska\\n\\nAgriculture, though a small fraction of the Alaskan economy, is concentrated in regions like the Kenai Peninsula and Matanuska Valley. These areas are crucial for local food production, with the Matanuska Valley also being a source of gravel transported to Anchorage by the Alaska Railroad. The Tanana Valley is another notable agricultural locus in the state [Data: Reports (20); Entities (145, 273); Relationships (59, 145, 146)].\\n\\n## Cultural and Historical Context\\n\\nAlaska's cultural and historical context is rich and diverse. Indigenous groups such as the Tlingit, Haida, Yup'ik, and Alutiiq have long inhabited the region, each contributing to its cultural tapestry. The state's history is also marked by significant events like the Good Friday earthquake, which led to the formation of the West Coast and Alaska Tsunami Warning Center [Data: Reports (20); Entities (19, 20, 25, 26, 115); Relationships (12, 13, 15, 16, 28, 37)].\\n\\n## Tourism and Accessibility\\n\\nTourism is a growing sector in Alaska, bolstered by infrastructure such as the Alcan Highway and the Alaska Marine Highway System, which have made the state more accessible. The state's natural beauty, including national parks like Denali and the Tongass National Forest, attracts numerous visitors annually. Additionally, events like the Iditarod Trail Sled Dog Race contribute to the state's tourism appeal [Data: Reports (20); Entities (120, 121); Relationships (40, 41, 67, 64, 152)].\\n\\n## Environmental and Conservation Efforts\\n\\nAlaska is home to significant environmental and conservation efforts. The Arctic National Wildlife Refuge is a contentious area often debated for oil drilling, highlighting the balance between conservation and resource development. The Alaska National Interest Lands Conservation Act added millions of acres to various conservation systems in the state, underscoring the importance of preserving Alaska's natural landscapes [Data: Reports (20); Entities (28); Relationships (43, 42)].\\n\\n## Diverse Demographics and Immigration\\n\\nAlaska's population is diverse, with significant numbers of immigrants from countries like Mexico, the Philippines, and Korea. This diversity is reflected in the state's cultural and social fabric, contributing to its unique identity. Additionally, the state has a notable presence of various religious groups, including Evangelical Protestants, Mormons, and Muslims [Data: Reports (20); Entities (211, 212, 214, 225, 227, 229); Relationships (98, 99, 101, 113, 115, 117)].\\n\\n## Educational and Research Institutions\\n\\nEducational and research institutions play a significant role in Alaska. The University of Alaska, a land grant university, owns substantial acreage in the state and contributes to its educational landscape. Research organizations like the Public Religion Research Institute and the Association of Religion Data Archives conduct studies on various aspects of Alaskan society, providing valuable insights into the state's demographics and cultural trends [Data: Reports (20); Entities (157, 206, 207); Relationships (75, 93, 94)].\\n\\n## Military Presence and Federal Support\\n\\nMilitary bases are a significant component of the Alaskan economy, particularly in regions like Fairbanks North Star, Anchorage, and Kodiak Island boroughs. Federal subsidies also play a crucial role in the state's economy, helping to keep taxes low and supporting various public services. The U.S. federal government provides various resources and guides related to Alaska, further emphasizing the state's strategic importance [Data: Reports (20); Entities (252, 253); Relationships (133, 134, 191)].\", 'rank': 8.5, 'index_name': './alaska', 'index_id': '1'}\n",
      "{'id': '59', 'title': 'Southeast Alaska Cities and Events', 'occurrence weight': 0.13636363636363635, 'content': \"# Southeast Alaska Cities and Events\\n\\nThe community revolves around several key cities in Southeast Alaska, including Ketchikan, Sitka, and Juneau. These cities are interconnected through various relationships and events, such as festivals and historical significance. The community also includes notable geographical features like the Alexander Archipelago and the Tongass National Forest, as well as healthcare facilities operated by the Southeast Alaska Regional Health Consortium.\\n\\n## Ketchikan's Cultural and Economic Significance\\n\\nKetchikan is a city in southeastern Alaska known for its high precipitation and significant cultural events such as the Blueberry Festival and the Alaska Hummingbird Festival. The city's population fluctuates dramatically due to the arrival of cruise ships, which highlights its economic dependence on tourism. Ketchikan was once the largest city in the state and has several neighborhoods established as census-designated places in the 1980 Census. [Data: Entities (147, 287, 286, 367, 176, 177, 178, 179, 180, 181, 182); Relationships (65, 364, 372, 374, 373, 365, 375, 366, 367, 368, 369, 370, 371)]\\n\\n## Sitka's Historical and Cultural Importance\\n\\nSitka is a historically significant city located on Baranof Island in Southeast Alaska. It was the capital of Russian America and later served as the capital of Alaska. Sitka hosts several notable events, including the Sitka Whale Fest, Sitka Jazz Festival, and Sitka Summer Music Festival. The city also has a hospital operated by the Southeast Alaska Regional Health Consortium and is home to Mt. Edgecumbe High School, a state-operated boarding school. [Data: Entities (8, 54, 328, 288, 304, 305, 326); Relationships (7, 205, 214, 210, 211, 212, 213)]\\n\\n## Juneau's Role as the Capital City\\n\\nJuneau is the capital city of Alaska, located in the southeastern part of the state. It is one of the four largest cities in the United States by area and is not connected by road to the rest of the North American highway system. Juneau is home to the Juneau Symphony and has local hospitals. The city became the capital of Alaska in 1906, when the capital was moved from Sitka. [Data: Entities (7, 308); Relationships (6, 199, 197, 198, 200, 201, 202)]\\n\\n## Alexander Archipelago and Tongass National Forest\\n\\nThe Alexander Archipelago is a group of islands located in Southeast Alaska, forming a significant part of the region's geography. The Tongass National Forest, the largest national forest in the United States, is also located in Southeast Alaska. These geographical features play a crucial role in the region's ecosystem and tourism industry. [Data: Entities (55, 146); Relationships (63, 64, 278, 363)]\\n\\n## Healthcare Services by Southeast Alaska Regional Health Consortium\\n\\nThe Southeast Alaska Regional Health Consortium operates healthcare facilities across 27 communities in Southeast Alaska, including hospitals in Sitka and Wrangell. This organization plays a vital role in providing healthcare services to the region's residents. [Data: Entities (326); Relationships (213, 419)]\\n\\n## Economic Impact of Cruise Ships in Ketchikan\\n\\nKetchikan's population fluctuates significantly due to the arrival of cruise ships, which underscores the city's economic reliance on tourism. This influx of visitors can have both positive and negative impacts on the local economy and infrastructure. [Data: Entities (367); Relationships (375)]\\n\\n## Historical Significance of Sitka\\n\\nSitka's historical significance is highlighted by its role as the capital of Russian America and later as the capital of Alaska. The city was once known as New Archangel and was a center for the Russian-American Company's colonization efforts. [Data: Entities (8, 76, 53); Relationships (206, 204)]\\n\\n## Annual Festivals in Southeast Alaska\\n\\nSoutheast Alaska hosts several annual festivals that attract visitors and celebrate the region's culture and natural beauty. Notable events include the Sitka Whale Fest, Sitka Jazz Festival, Sitka Summer Music Festival, Blueberry Festival, Alaska Hummingbird Festival, and Stikine River Garnet Fest. [Data: Entities (288, 304, 305, 287, 286, 289); Relationships (210, 211, 212, 374, 373, 415)]\\n\\n## Connectivity and Accessibility Issues\\n\\nJuneau's lack of road connection to the rest of the North American highway system presents unique challenges for accessibility and connectivity. There has been debate about building a road connection from Haines to Juneau, which would enhance the region's accessibility. [Data: Entities (7, 317); Relationships (203)]\", 'rank': 7.5, 'index_name': './alaska', 'index_id': '6'}\n",
      "{'id': '57', 'title': 'Aleutian Islands and Southwest Alaska', 'occurrence weight': 0.09090909090909091, 'content': '# Aleutian Islands and Southwest Alaska\\n\\nThe community revolves around the Aleutian Islands, a chain of over 300 small volcanic islands extending from the southern tip of the Alaska Peninsula into the Pacific Ocean. This community includes significant entities such as the Alaska Marine Highway, which serves the region, and historical elements like the occupation of certain islands by the Empire of Japan during World War II. The community also encompasses other regions in Southwest Alaska, including Kodiak Island and the Yukon–Kuskokwim Delta.\\n\\n## Aleutian Islands as a central entity\\n\\nThe Aleutian Islands are the central entity in this community, consisting of over 300 small volcanic islands extending from the southern tip of the Alaska Peninsula. This chain of islands is notable for its active volcanoes and historical significance during World War II, where parts of it were occupied by the Empire of Japan [Data: Entities (32); Relationships (45, 259, 257, 260, 261, +more)].\\n\\n## Historical significance of World War II\\n\\nSeveral islands in the Aleutian chain, including Attu, Kiska, and Agattu, were occupied by Japanese forces during World War II. This occupation highlights the strategic importance of the Aleutian Islands during the war and their role in the broader conflict in the Pacific [Data: Entities (62, 64, 63, 83); Relationships (257, 260, 261, 285, 286, +more)].\\n\\n## Role of the Alaska Marine Highway\\n\\nThe Alaska Marine Highway is a state-owned ferry system that serves the cities of Southeast Alaska, the Gulf Coast, and the Alaska Peninsula. It provides vital surface links throughout Southeast Alaska, transporting both vehicles and passengers. The system operates ferry services from Prince Rupert, Bellingham, and through the Inside Passage, highlighting its importance in connecting remote regions [Data: Entities (148); Relationships (376, 348, 360, 377, 378, +more)].\\n\\n## Geographical and environmental significance\\n\\nThe Aleutian Islands are part of the Southwest region of Alaska, which is a sparsely inhabited area stretching inland from the Bering Sea. This region includes other significant areas such as Kodiak Island and the Yukon–Kuskokwim Delta, which are notable for their unique geographical and environmental characteristics [Data: Entities (154, 155, 162); Relationships (262, 386, 387)].\\n\\n## Indigenous presence and culture\\n\\nThe Aleut people, an indigenous group known for their seafaring society, live in the Aleutian Islands. Their presence adds a cultural and historical layer to the community, emphasizing the long-standing human habitation and adaptation to the challenging environment of the islands [Data: Entities (24); Relationships (251)].\\n\\n## Volcanic activity in the Aleutian Islands\\n\\nThe Aleutian Islands are notable for containing many active volcanoes, including Mount Shishaldin on Unimak Island. This volcanic activity is a significant environmental factor that impacts the region, contributing to its unique geological landscape [Data: Entities (125, 127); Relationships (258, 359)].\\n\\n## Strategic importance of the Alaska Peninsula\\n\\nThe Alaska Peninsula forms the southern tip of Alaska, from which the Aleutian Islands chain extends. This region is served by the Alaska Marine Highway, highlighting its strategic importance in terms of transportation and connectivity within Alaska [Data: Entities (137); Relationships (259, 360)].', 'rank': 7.5, 'index_name': './alaska', 'index_id': '4'}\n"
     ]
    }
   ],
   "source": [
    "for i in update_context:\n",
    "    if i[\"id\"] in [\"54\",\"57\",\"59\"]:\n",
    "        print(i)"
   ]
  },
  {
   "cell_type": "code",
   "execution_count": 147,
   "metadata": {},
   "outputs": [],
   "source": [
    "seen = []\n",
    "title = []\n",
    "for k in result[1].keys():\n",
    "    if len(result[1][k]) > 0:\n",
    "        for i in result[1][k]:\n",
    "            if i['id'] not in seen:\n",
    "                seen.append(i['id'])\n",
    "                title.append(i['title'])\n",
    "            else:\n",
    "                print(i['id'], title[seen.index(i['id'])], \"-\"*10, i['title'])\n",
    "            "
   ]
  },
  {
   "cell_type": "markdown",
   "metadata": {},
   "source": [
    "## Local Search"
   ]
  },
  {
   "cell_type": "code",
   "execution_count": 68,
   "metadata": {},
   "outputs": [
    {
     "ename": "AttributeError",
     "evalue": "'LocalSearchConfig' object has no attribute 'root_dir'",
     "output_type": "error",
     "traceback": [
      "\u001b[0;31m---------------------------------------------------------------------------\u001b[0m",
      "\u001b[0;31mAttributeError\u001b[0m                            Traceback (most recent call last)",
      "Cell \u001b[0;32mIn[68], line 1\u001b[0m\n\u001b[0;32m----> 1\u001b[0m \u001b[43mparameters\u001b[49m\u001b[38;5;241;43m.\u001b[39;49m\u001b[43mlocal_search\u001b[49m\u001b[38;5;241;43m.\u001b[39;49m\u001b[43mroot_dir\u001b[49m\n",
      "File \u001b[0;32m~/anaconda3/lib/python3.11/site-packages/pydantic/main.py:828\u001b[0m, in \u001b[0;36mBaseModel.__getattr__\u001b[0;34m(self, item)\u001b[0m\n\u001b[1;32m    825\u001b[0m     \u001b[38;5;28;01mreturn\u001b[39;00m \u001b[38;5;28msuper\u001b[39m()\u001b[38;5;241m.\u001b[39m\u001b[38;5;21m__getattribute__\u001b[39m(item)  \u001b[38;5;66;03m# Raises AttributeError if appropriate\u001b[39;00m\n\u001b[1;32m    826\u001b[0m \u001b[38;5;28;01melse\u001b[39;00m:\n\u001b[1;32m    827\u001b[0m     \u001b[38;5;66;03m# this is the current error\u001b[39;00m\n\u001b[0;32m--> 828\u001b[0m     \u001b[38;5;28;01mraise\u001b[39;00m \u001b[38;5;167;01mAttributeError\u001b[39;00m(\u001b[38;5;124mf\u001b[39m\u001b[38;5;124m'\u001b[39m\u001b[38;5;132;01m{\u001b[39;00m\u001b[38;5;28mtype\u001b[39m(\u001b[38;5;28mself\u001b[39m)\u001b[38;5;241m.\u001b[39m\u001b[38;5;18m__name__\u001b[39m\u001b[38;5;132;01m!r}\u001b[39;00m\u001b[38;5;124m object has no attribute \u001b[39m\u001b[38;5;132;01m{\u001b[39;00mitem\u001b[38;5;132;01m!r}\u001b[39;00m\u001b[38;5;124m'\u001b[39m)\n",
      "\u001b[0;31mAttributeError\u001b[0m: 'LocalSearchConfig' object has no attribute 'root_dir'"
     ]
    }
   ],
   "source": [
    "parameters.local_search.root_dir"
   ]
  },
  {
   "cell_type": "code",
   "execution_count": 70,
   "metadata": {},
   "outputs": [
    {
     "name": "stdout",
     "output_type": "stream",
     "text": [
      "Help on function local_search in module graphrag.query.api:\n",
      "\n",
      "local_search(root_dir: str | None, config: graphrag.config.models.graph_rag_config.GraphRagConfig, nodes: pandas.core.frame.DataFrame, entities: pandas.core.frame.DataFrame, community_reports: pandas.core.frame.DataFrame, text_units: pandas.core.frame.DataFrame, relationships: pandas.core.frame.DataFrame, covariates: pandas.core.frame.DataFrame | None, community_level: int, response_type: str, query: str) -> tuple[str | dict[str, typing.Any] | list[dict[str, typing.Any]], str | list[pandas.core.frame.DataFrame] | dict[str, pandas.core.frame.DataFrame]]\n",
      "    Perform a local search and return the context data and response.\n",
      "    \n",
      "    Parameters\n",
      "    ----------\n",
      "    - config (GraphRagConfig): A graphrag configuration (from settings.yaml)\n",
      "    - nodes (pd.DataFrame): A DataFrame containing the final nodes (from create_final_nodes.parquet)\n",
      "    - entities (pd.DataFrame): A DataFrame containing the final entities (from create_final_entities.parquet)\n",
      "    - community_reports (pd.DataFrame): A DataFrame containing the final community reports (from create_final_community_reports.parquet)\n",
      "    - text_units (pd.DataFrame): A DataFrame containing the final text units (from create_final_text_units.parquet)\n",
      "    - relationships (pd.DataFrame): A DataFrame containing the final relationships (from create_final_relationships.parquet)\n",
      "    - covariates (pd.DataFrame): A DataFrame containing the final covariates (from create_final_covariates.parquet)\n",
      "    - community_level (int): The community level to search at.\n",
      "    - response_type (str): The response type to return.\n",
      "    - query (str): The user query to search for.\n",
      "    \n",
      "    Returns\n",
      "    -------\n",
      "    TODO: Document the search response type and format.\n",
      "    \n",
      "    Raises\n",
      "    ------\n",
      "    TODO: Document any exceptions to expect.\n",
      "\n"
     ]
    }
   ],
   "source": [
    "help(local_search)"
   ]
  },
  {
   "cell_type": "code",
   "execution_count": 74,
   "metadata": {},
   "outputs": [
    {
     "data": {
      "text/plain": [
       "StorageConfig(type=\"file\", base_dir='output/${timestamp}/artifacts', connection_string=None, container_name=None, storage_account_blob_url=None)"
      ]
     },
     "execution_count": 74,
     "metadata": {},
     "output_type": "execute_result"
    }
   ],
   "source": [
    "parameters.storage"
   ]
  },
  {
   "cell_type": "code",
   "execution_count": 75,
   "metadata": {},
   "outputs": [
    {
     "name": "stdout",
     "output_type": "stream",
     "text": [
      "\n",
      "INFO: Vector Store Args: {}\n"
     ]
    },
    {
     "ename": "ValueError",
     "evalue": "Parent directory None/output does not exist or is not a directory.",
     "output_type": "error",
     "traceback": [
      "\u001b[0;31m---------------------------------------------------------------------------\u001b[0m",
      "\u001b[0;31mValueError\u001b[0m                                Traceback (most recent call last)",
      "Cell \u001b[0;32mIn[75], line 1\u001b[0m\n\u001b[0;32m----> 1\u001b[0m result \u001b[38;5;241m=\u001b[39m \u001b[38;5;28;01mawait\u001b[39;00m local_search(\n\u001b[1;32m      2\u001b[0m               root_dir \u001b[38;5;241m=\u001b[39m \u001b[38;5;28;01mNone\u001b[39;00m,\n\u001b[1;32m      3\u001b[0m               config\u001b[38;5;241m=\u001b[39mparameters,\n\u001b[1;32m      4\u001b[0m               nodes\u001b[38;5;241m=\u001b[39mnodes_combined,\n\u001b[1;32m      5\u001b[0m               entities\u001b[38;5;241m=\u001b[39mentities_combined,\n\u001b[1;32m      6\u001b[0m               community_reports \u001b[38;5;241m=\u001b[39m community_combined,\n\u001b[1;32m      7\u001b[0m               text_units \u001b[38;5;241m=\u001b[39m text_units_combined,\n\u001b[1;32m      8\u001b[0m               relationships \u001b[38;5;241m=\u001b[39m relationships_combined,\n\u001b[1;32m      9\u001b[0m               covariates \u001b[38;5;241m=\u001b[39m covariates_combined,\n\u001b[1;32m     10\u001b[0m               community_level \u001b[38;5;241m=\u001b[39m \u001b[38;5;241m1\u001b[39m,\n\u001b[1;32m     11\u001b[0m               response_type \u001b[38;5;241m=\u001b[39m \u001b[38;5;124m\"\u001b[39m\u001b[38;5;124mMultiple Paragraphs\u001b[39m\u001b[38;5;124m\"\u001b[39m,\n\u001b[1;32m     12\u001b[0m               query\u001b[38;5;241m=\u001b[39m \u001b[38;5;124m\"\u001b[39m\u001b[38;5;124mwhere is arizona?\u001b[39m\u001b[38;5;124m\"\u001b[39m\n\u001b[1;32m     13\u001b[0m               )\n",
      "File \u001b[0;32m~/anaconda3/lib/python3.11/site-packages/graphrag/query/api.py:200\u001b[0m, in \u001b[0;36mlocal_search\u001b[0;34m(root_dir, config, nodes, entities, community_reports, text_units, relationships, covariates, community_level, response_type, query)\u001b[0m\n\u001b[1;32m    197\u001b[0m _entities \u001b[38;5;241m=\u001b[39m read_indexer_entities(nodes, entities, community_level)\n\u001b[1;32m    199\u001b[0m base_dir \u001b[38;5;241m=\u001b[39m Path(\u001b[38;5;28mstr\u001b[39m(root_dir)) \u001b[38;5;241m/\u001b[39m config\u001b[38;5;241m.\u001b[39mstorage\u001b[38;5;241m.\u001b[39mbase_dir\n\u001b[0;32m--> 200\u001b[0m resolved_base_dir \u001b[38;5;241m=\u001b[39m \u001b[43mresolve_timestamp_path\u001b[49m\u001b[43m(\u001b[49m\u001b[43mbase_dir\u001b[49m\u001b[43m)\u001b[49m\n\u001b[1;32m    201\u001b[0m lancedb_dir \u001b[38;5;241m=\u001b[39m resolved_base_dir \u001b[38;5;241m/\u001b[39m \u001b[38;5;124m\"\u001b[39m\u001b[38;5;124mlancedb\u001b[39m\u001b[38;5;124m\"\u001b[39m\n\u001b[1;32m    202\u001b[0m vector_store_args\u001b[38;5;241m.\u001b[39mupdate({\u001b[38;5;124m\"\u001b[39m\u001b[38;5;124mdb_uri\u001b[39m\u001b[38;5;124m\"\u001b[39m: \u001b[38;5;28mstr\u001b[39m(lancedb_dir)})\n",
      "File \u001b[0;32m~/anaconda3/lib/python3.11/site-packages/graphrag/config/resolve_timestamp_path.py:115\u001b[0m, in \u001b[0;36mresolve_timestamp_path\u001b[0;34m(path, pattern_or_timestamp_value)\u001b[0m\n\u001b[1;32m    113\u001b[0m \u001b[38;5;28;01mif\u001b[39;00m \u001b[38;5;28misinstance\u001b[39m(pattern_or_timestamp_value, \u001b[38;5;28mstr\u001b[39m):\n\u001b[1;32m    114\u001b[0m     \u001b[38;5;28;01mreturn\u001b[39;00m _resolve_timestamp_path_with_value(path, pattern_or_timestamp_value)\n\u001b[0;32m--> 115\u001b[0m \u001b[38;5;28;01mreturn\u001b[39;00m \u001b[43m_resolve_timestamp_path_with_dir\u001b[49m\u001b[43m(\u001b[49m\u001b[43mpath\u001b[49m\u001b[43m,\u001b[49m\u001b[43m \u001b[49m\u001b[43mpattern_or_timestamp_value\u001b[49m\u001b[43m)\u001b[49m\n",
      "File \u001b[0;32m~/anaconda3/lib/python3.11/site-packages/graphrag/config/resolve_timestamp_path.py:70\u001b[0m, in \u001b[0;36m_resolve_timestamp_path_with_dir\u001b[0;34m(path, pattern)\u001b[0m\n\u001b[1;32m     68\u001b[0m \u001b[38;5;28;01mif\u001b[39;00m \u001b[38;5;129;01mnot\u001b[39;00m parent_dir\u001b[38;5;241m.\u001b[39mexists() \u001b[38;5;129;01mor\u001b[39;00m \u001b[38;5;129;01mnot\u001b[39;00m parent_dir\u001b[38;5;241m.\u001b[39mis_dir():\n\u001b[1;32m     69\u001b[0m     msg \u001b[38;5;241m=\u001b[39m \u001b[38;5;124mf\u001b[39m\u001b[38;5;124m\"\u001b[39m\u001b[38;5;124mParent directory \u001b[39m\u001b[38;5;132;01m{\u001b[39;00mparent_dir\u001b[38;5;132;01m}\u001b[39;00m\u001b[38;5;124m does not exist or is not a directory.\u001b[39m\u001b[38;5;124m\"\u001b[39m\n\u001b[0;32m---> 70\u001b[0m     \u001b[38;5;28;01mraise\u001b[39;00m \u001b[38;5;167;01mValueError\u001b[39;00m(msg)\n\u001b[1;32m     72\u001b[0m timestamp_dirs \u001b[38;5;241m=\u001b[39m [\n\u001b[1;32m     73\u001b[0m     d \u001b[38;5;28;01mfor\u001b[39;00m d \u001b[38;5;129;01min\u001b[39;00m parent_dir\u001b[38;5;241m.\u001b[39miterdir() \u001b[38;5;28;01mif\u001b[39;00m d\u001b[38;5;241m.\u001b[39mis_dir() \u001b[38;5;129;01mand\u001b[39;00m pattern\u001b[38;5;241m.\u001b[39mmatch(d\u001b[38;5;241m.\u001b[39mname)\n\u001b[1;32m     74\u001b[0m ]\n\u001b[1;32m     75\u001b[0m timestamp_dirs\u001b[38;5;241m.\u001b[39msort(key\u001b[38;5;241m=\u001b[39m\u001b[38;5;28;01mlambda\u001b[39;00m d: d\u001b[38;5;241m.\u001b[39mname, reverse\u001b[38;5;241m=\u001b[39m\u001b[38;5;28;01mTrue\u001b[39;00m)\n",
      "\u001b[0;31mValueError\u001b[0m: Parent directory None/output does not exist or is not a directory."
     ]
    }
   ],
   "source": [
    "result = await local_search(\n",
    "              root_dir = None,\n",
    "              config=parameters,\n",
    "              nodes=nodes_combined,\n",
    "              entities=entities_combined,\n",
    "              community_reports = community_combined,\n",
    "              text_units = text_units_combined,\n",
    "              relationships = relationships_combined,\n",
    "              covariates = covariates_combined,\n",
    "              community_level = 1,\n",
    "              response_type = \"Multiple Paragraphs\",\n",
    "              query= \"where is arizona?\"\n",
    "              )"
   ]
  },
  {
   "cell_type": "markdown",
   "metadata": {},
   "source": [
    "# Basic Single Index Test"
   ]
  },
  {
   "cell_type": "code",
   "execution_count": null,
   "metadata": {},
   "outputs": [],
   "source": [
    "nodes_df = pd.read_parquet('./alaska/output/20240820-192925/artifacts/create_final_nodes.parquet')\n",
    "entities_df = pd.read_parquet('./alaska/output/20240820-192925/artifacts/create_final_entities.parquet')\n",
    "community_df = pd.read_parquet('./alaska/output/20240820-192925/artifacts/create_final_community_reports.parquet')\n",
    "text_units_df = pd.read_parquet('./alaska/output/20240820-192925/artifacts/create_final_text_units.parquet')\n",
    "relationships_df = pd.read_parquet('./alaska/output/20240820-192925/artifacts/create_final_relationships.parquet')\n",
    "covariates_df= None"
   ]
  },
  {
   "cell_type": "code",
   "execution_count": null,
   "metadata": {},
   "outputs": [],
   "source": [
    "result = await local_search(config=parameters,\n",
    "              nodes=nodes_df,\n",
    "              entities=entities_df,\n",
    "              community_reports = community_df,\n",
    "              text_units = text_units_df,\n",
    "              relationships = relationships_df,\n",
    "              covariates = covariates_df,\n",
    "              community_level = 1,\n",
    "              response_type = \"Multiple Paragraphs\",\n",
    "              query= \"where is alaska?\"\n",
    "              )"
   ]
  },
  {
   "cell_type": "code",
   "execution_count": null,
   "metadata": {},
   "outputs": [],
   "source": [
    "result = await global_search(config=parameters,\n",
    "              nodes=nodes_df,\n",
    "              entities=entities_df,\n",
    "              community_reports = community_df,\n",
    "              community_level = 1,\n",
    "              response_type = \"Multiple Paragraphs\",\n",
    "              query= \"where is alaska?\"\n",
    "              )"
   ]
  }
 ],
 "metadata": {
  "kernelspec": {
   "display_name": "gracc",
   "language": "python",
   "name": "python3"
  },
  "language_info": {
   "codemirror_mode": {
    "name": "ipython",
    "version": 3
   },
   "file_extension": ".py",
   "mimetype": "text/x-python",
   "name": "python",
   "nbconvert_exporter": "python",
   "pygments_lexer": "ipython3",
   "version": "3.11.5"
  }
 },
 "nbformat": 4,
 "nbformat_minor": 2
}
